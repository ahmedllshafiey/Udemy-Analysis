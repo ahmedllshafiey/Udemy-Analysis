{
 "cells": [
  {
   "cell_type": "code",
   "execution_count": 1,
   "metadata": {},
   "outputs": [
    {
     "name": "stderr",
     "output_type": "stream",
     "text": [
      "Matplotlib is building the font cache; this may take a moment.\n"
     ]
    }
   ],
   "source": [
    "import pandas as pd\n",
    "import numpy as np\n",
    "import matplotlib.pyplot as plt\n",
    "import seaborn as sns"
   ]
  },
  {
   "cell_type": "code",
   "execution_count": 4,
   "metadata": {},
   "outputs": [],
   "source": [
    "df=pd.read_csv('database/udemy.csv')"
   ]
  },
  {
   "cell_type": "code",
   "execution_count": null,
   "metadata": {},
   "outputs": [
    {
     "data": {
      "text/plain": [
       "Index(['Unnamed: 0', 'course_id', 'course_title', 'url', 'is_paid', 'price',\n",
       "       'num_subscribers', 'num_reviews', 'num_lectures', 'level',\n",
       "       'content_duration', 'published_timestamp', 'subject',\n",
       "       'clean_course_title'],\n",
       "      dtype='object')"
      ]
     },
     "execution_count": 5,
     "metadata": {},
     "output_type": "execute_result"
    }
   ],
   "source": [
    "# show columns of the dataframe\n",
    "df.columns"
   ]
  },
  {
   "cell_type": "code",
   "execution_count": null,
   "metadata": {},
   "outputs": [
    {
     "name": "stdout",
     "output_type": "stream",
     "text": [
      "<class 'pandas.core.frame.DataFrame'>\n",
      "RangeIndex: 3683 entries, 0 to 3682\n",
      "Data columns (total 14 columns):\n",
      " #   Column               Non-Null Count  Dtype \n",
      "---  ------               --------------  ----- \n",
      " 0   Unnamed: 0           3683 non-null   int64 \n",
      " 1   course_id            3683 non-null   int64 \n",
      " 2   course_title         3683 non-null   object\n",
      " 3   url                  3683 non-null   object\n",
      " 4   is_paid              3683 non-null   object\n",
      " 5   price                3683 non-null   object\n",
      " 6   num_subscribers      3683 non-null   int64 \n",
      " 7   num_reviews          3683 non-null   int64 \n",
      " 8   num_lectures         3683 non-null   int64 \n",
      " 9   level                3683 non-null   object\n",
      " 10  content_duration     3683 non-null   object\n",
      " 11  published_timestamp  3683 non-null   object\n",
      " 12  subject              3683 non-null   object\n",
      " 13  clean_course_title   3663 non-null   object\n",
      "dtypes: int64(5), object(9)\n",
      "memory usage: 403.0+ KB\n"
     ]
    }
   ],
   "source": [
    "# show info of the dataframe\n",
    "df.info()"
   ]
  },
  {
   "cell_type": "code",
   "execution_count": null,
   "metadata": {},
   "outputs": [
    {
     "data": {
      "text/plain": [
       "Unnamed: 0              0\n",
       "course_id               0\n",
       "course_title            0\n",
       "url                     0\n",
       "is_paid                 0\n",
       "price                   0\n",
       "num_subscribers         0\n",
       "num_reviews             0\n",
       "num_lectures            0\n",
       "level                   0\n",
       "content_duration        0\n",
       "published_timestamp     0\n",
       "subject                 0\n",
       "clean_course_title     20\n",
       "dtype: int64"
      ]
     },
     "execution_count": 7,
     "metadata": {},
     "output_type": "execute_result"
    }
   ],
   "source": [
    "# detect missing values\n",
    "df.isnull().sum()"
   ]
  },
  {
   "cell_type": "code",
   "execution_count": 9,
   "metadata": {},
   "outputs": [],
   "source": [
    "# to make process more efficient, we can make question of each column that we want to analyze\n",
    "# for example, we want to analyze the average of the price of the courses\n",
    "# we can ask the question: what is the average price of the courses?\n",
    "# and then we can answer the question by using the code below\n",
    "# we can also ask the question: what is the maximum price of the courses?\n",
    "# and then we can answer the question by using the code below\n",
    "# and so on\n",
    "# this method is more efficient than just randomly analyze the data"
   ]
  },
  {
   "cell_type": "code",
   "execution_count": null,
   "metadata": {},
   "outputs": [],
   "source": []
  }
 ],
 "metadata": {
  "kernelspec": {
   "display_name": "Python 3",
   "language": "python",
   "name": "python3"
  },
  "language_info": {
   "codemirror_mode": {
    "name": "ipython",
    "version": 3
   },
   "file_extension": ".py",
   "mimetype": "text/x-python",
   "name": "python",
   "nbconvert_exporter": "python",
   "pygments_lexer": "ipython3",
   "version": "3.13.0"
  }
 },
 "nbformat": 4,
 "nbformat_minor": 2
}
